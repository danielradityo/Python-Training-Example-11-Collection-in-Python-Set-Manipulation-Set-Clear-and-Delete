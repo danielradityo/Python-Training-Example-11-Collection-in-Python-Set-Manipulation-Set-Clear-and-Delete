{
 "cells": [
  {
   "cell_type": "markdown",
   "metadata": {},
   "source": [
    "# Python Training Example #11 Collection in Python Set - Manipulation Set Clear and Delete"
   ]
  },
  {
   "cell_type": "code",
   "execution_count": 2,
   "metadata": {},
   "outputs": [],
   "source": [
    "# Create a Set\n",
    "land_vehicle = {'Car', 'Motorcycle', 'Bycycle', 'Bus', 'Truck', 'Train'}\n",
    "water_vehicle = {'Boat', 'Ferry', 'Ship', 'Submarine', 'Yacht', 'Sail boat'}\n",
    "people_use = {'Car', 'Car', 'Motorcycle', 'Bycycle', 'Bycycle', 'Motocyle', 'Car', 'Motorcycle', 'Bycycle', 'Car', 'Motorcycle', 'Car', 'Motorcycle', 'Bycycle'}"
   ]
  },
  {
   "cell_type": "markdown",
   "metadata": {},
   "source": [
    "## .clear()"
   ]
  },
  {
   "cell_type": "code",
   "execution_count": 3,
   "metadata": {},
   "outputs": [
    {
     "name": "stdout",
     "output_type": "stream",
     "text": [
      "set()\n"
     ]
    }
   ],
   "source": [
    "# clear Set\n",
    "land_vehicle.clear()\n",
    "print(land_vehicle)"
   ]
  },
  {
   "cell_type": "markdown",
   "metadata": {},
   "source": [
    "## .pop()"
   ]
  },
  {
   "cell_type": "code",
   "execution_count": 5,
   "metadata": {},
   "outputs": [
    {
     "name": "stdout",
     "output_type": "stream",
     "text": [
      "{'Ferry', 'Yacht', 'Submarine', 'Ship', 'Sail boat'}\n"
     ]
    }
   ],
   "source": [
    "# pop Set will delete parameter random\n",
    "water_vehicle.pop() # will pop (delete) Set random\n",
    "print(water_vehicle)"
   ]
  },
  {
   "cell_type": "markdown",
   "metadata": {},
   "source": [
    "## .remove()"
   ]
  },
  {
   "cell_type": "code",
   "execution_count": 6,
   "metadata": {},
   "outputs": [
    {
     "name": "stdout",
     "output_type": "stream",
     "text": [
      "{'Ferry', 'Yacht', 'Ship', 'Sail boat'}\n"
     ]
    }
   ],
   "source": [
    "# remove Set will delete parameter\n",
    "water_vehicle.remove('Submarine') # will remove Set with parameter Submarine\n",
    "print(water_vehicle)"
   ]
  }
 ],
 "metadata": {
  "kernelspec": {
   "display_name": "Python 3",
   "language": "python",
   "name": "python3"
  },
  "language_info": {
   "codemirror_mode": {
    "name": "ipython",
    "version": 3
   },
   "file_extension": ".py",
   "mimetype": "text/x-python",
   "name": "python",
   "nbconvert_exporter": "python",
   "pygments_lexer": "ipython3",
   "version": "3.8.5"
  }
 },
 "nbformat": 4,
 "nbformat_minor": 4
}
